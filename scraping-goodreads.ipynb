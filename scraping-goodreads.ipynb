{
 "cells": [
  {
   "cell_type": "code",
   "execution_count": 2,
   "id": "b698e4bc",
   "metadata": {},
   "outputs": [
    {
     "name": "stdout",
     "output_type": "stream",
     "text": [
      "Collecting beautifulsoup4\n",
      "  Downloading beautifulsoup4-4.11.1-py3-none-any.whl (128 kB)\n",
      "     -------------------------------------- 128.2/128.2 KB 3.7 MB/s eta 0:00:00\n",
      "Collecting soupsieve>1.2\n",
      "  Downloading soupsieve-2.3.2-py3-none-any.whl (37 kB)\n",
      "Installing collected packages: soupsieve, beautifulsoup4\n",
      "Successfully installed beautifulsoup4-4.11.1 soupsieve-2.3.2\n",
      "Note: you may need to restart the kernel to use updated packages.\n"
     ]
    }
   ],
   "source": [
    "pip install beautifulsoup4"
   ]
  },
  {
   "cell_type": "code",
   "execution_count": 3,
   "id": "cognitive-russian",
   "metadata": {},
   "outputs": [],
   "source": [
    "import pandas as pd\n",
    "import numpy as np\n",
    "\n",
    "import requests\n",
    "from bs4 import BeautifulSoup\n",
    "from bs4.element import Comment"
   ]
  },
  {
   "cell_type": "markdown",
   "id": "authorized-cardiff",
   "metadata": {},
   "source": [
    "## **How to Scrape a Website in Python**"
   ]
  },
  {
   "cell_type": "markdown",
   "id": "0f5f2398",
   "metadata": {},
   "source": [
    "### **Non-Protected Site** <br>\n",
    "Reference source: https://youtu.be/5iCDflynAw4"
   ]
  },
  {
   "cell_type": "code",
   "execution_count": 4,
   "id": "bored-senior",
   "metadata": {},
   "outputs": [],
   "source": [
    "url = 'https://www.goodreads.com/search?q=dilan'\n",
    "\n",
    "# membuat request\n",
    "r = requests.get(url)\n",
    "\n",
    "# Hasil request\n",
    "request = r.content\n",
    "\n",
    "soup = BeautifulSoup(request, 'html.parser')\n",
    "\n",
    "# Extract element\n",
    "title = soup.findAll('a', attrs={'class':'bookTitle'})\n",
    "author = soup.findAll('a', attrs={'class':'authorName'})"
   ]
  },
  {
   "cell_type": "code",
   "execution_count": 5,
   "id": "extreme-installation",
   "metadata": {},
   "outputs": [
    {
     "name": "stdout",
     "output_type": "stream",
     "text": [
      "1. Dilan Bagian Kedua: Dia Adalah Dilanku Tahun 1991\n",
      "   .Pidi Baiq\n",
      "2. Dilan: Dia Adalah Dilanku Tahun 1990 (Dilan, #1)\n",
      "   .Pidi Baiq\n",
      "3. Milea: Suara Dari Dilan\n",
      "   .Pidi Baiq\n",
      "4. MILEA Voice of Dilan\n",
      "   .Pidi Baiq\n",
      "5. The Deliverance of Dilan (The Syndicate #4)\n",
      "   .Kathy Coopmans\n",
      "6. DILAN (HE IS DILAN) IN 1990: \"Milea, you're beautiful, but I have not loved you yet I do not know if it's an afternoon. (DILAN 1990) (E-BOOK DILAN 123)\n",
      "   .Pidi Baiq\n",
      "7. DILAN Bagian Kedua DIA ADALAH DILANKU 1991: DILAN The Second Part of HIM IS MY DILANK\n",
      "   .Pidi Baiq\n",
      "8. Dilan\n",
      "   .Febti Rahayu\n",
      "9. Dilan Dog – Majke i očevi\n",
      "   .Andika Moemoe\n",
      "10. Dilan Dog #128 – Duboki svemir\n",
      "   .Ömer Polat\n",
      "11. Flickornas historia: Europa: från Eirene i antiken till Dilan i vår tid\n",
      "   .Tiziano Sclavi\n",
      "12. Uz autostrādes. Bobs Dilans.\n",
      "   .Angelo Stano\n",
      "13. Dilan Dog predstavlja Priče iz nekog drugog sutra #1: Nemoguća knjiga\n",
      "   .Massimo Carnevale\n",
      "14. Zlatna Serija #2 Dilan Dog: Ponovo radi bioskop - Saldo (Dylan Dog Magazine, #1)\n",
      "   .Roberto Recchioni\n",
      "15. Biblioteka Obojeni Program #1 Dilan Dog: Zbogom, Gručo - Pegava traka - Mračni dani - Dvostruki identitet (Dylan Dog Color Fest, #10)\n",
      "   .Nicola Mari\n",
      "16. Instant Pot Cookbook For Babies: The Complete Baby Food Cookbook with Delicious and Nutritious Instant Pot Recipes For Your Baby and Toddler\n",
      "   .Angelo Stano\n",
      "17. Dilan Dog #116 – Novi život\n",
      "   .Kristina Lindström\n",
      "18. 24 jours, la vérité sur la mort d'Ilan Halimi suivi de La mort d'un pote\n",
      "   .Anna-Clara Tidholm\n",
      "19. Biblioteka Obojeni Program #5 Dilan Dog: Dilan u zemlji čuda - Pregažen vremenom - Snovokradica - Vampir boja (Dylan Dog Color Fest, #1)\n",
      "   .Howard Sounes\n",
      "20. Zlatna Serija #12 Dilan Dog & Marti Misterija: Ambis zla\n",
      "   .Sarma Ozola\n"
     ]
    }
   ],
   "source": [
    "count = 0\n",
    "for x in range(0, len(title)):\n",
    "    count += 1\n",
    "    print(\"{0}. {1}\\n   .{2}\".format(count, title[x].text.strip(),\\\n",
    "                                     author[x].text.strip()))"
   ]
  },
  {
   "cell_type": "markdown",
   "id": "supported-dallas",
   "metadata": {},
   "source": [
    "**Note** <br>\n",
    "For protected sites you can follow the tutorial link as follows: ```https://youtu.be/gnoIo0Gb6MQ```"
   ]
  }
 ],
 "metadata": {
  "kernelspec": {
   "display_name": "Python 3",
   "language": "python",
   "name": "python3"
  },
  "language_info": {
   "codemirror_mode": {
    "name": "ipython",
    "version": 3
   },
   "file_extension": ".py",
   "mimetype": "text/x-python",
   "name": "python",
   "nbconvert_exporter": "python",
   "pygments_lexer": "ipython3",
   "version": "3.10.1"
  }
 },
 "nbformat": 4,
 "nbformat_minor": 5
}
